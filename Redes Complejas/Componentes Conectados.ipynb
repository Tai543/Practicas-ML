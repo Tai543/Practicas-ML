{
 "cells": [
  {
   "cell_type": "markdown",
   "metadata": {},
   "source": [
    "## Componentes Conectados"
   ]
  },
  {
   "cell_type": "markdown",
   "metadata": {},
   "source": [
    "# Grafos conectados\n",
    "### Grafos sin direccion\n",
    "Un grafo sin direccion esta conectado si si para cada par de nodos del grafo existe al menos un camino"
   ]
  },
  {
   "cell_type": "code",
   "execution_count": 1,
   "metadata": {},
   "outputs": [],
   "source": [
    "import networkx as nx\n",
    "G=nx.Graph()\n",
    "G.add_edge('A','B')\n",
    "G.add_edge('B','C')\n",
    "G.add_edge('C','F')\n",
    "G.add_edge('F','G')\n",
    "G.add_edge('C','E')\n",
    "G.add_edge('D','E')\n",
    "G.add_edge('B','F')\n",
    "G.add_edge('B','G')\n",
    "G.add_edge('B','E')\n",
    "G.add_edge('B','T')\n",
    "G.add_edge('C','F')\n",
    "G.add_edge('C','G')\n",
    "G.add_edge('C','E')\n",
    "G.add_edge('C','T')\n",
    "G.add_edge('A','F')\n",
    "G.add_edge('A','G')"
   ]
  },
  {
   "cell_type": "code",
   "execution_count": 2,
   "metadata": {},
   "outputs": [
    {
     "data": {
      "text/plain": [
       "True"
      ]
     },
     "execution_count": 2,
     "metadata": {},
     "output_type": "execute_result"
    }
   ],
   "source": [
    "nx.is_connected(G)"
   ]
  },
  {
   "cell_type": "markdown",
   "metadata": {},
   "source": [
    "### Compónentes conectados\n",
    "Un componente conectado es un un sub set de nodos, que cumple las siguientes condiciones:\n",
    "i. Todos los nodos del subset tienen un camino entre si\n",
    "ii. Ningun otro nodo fuera del subset tiene una camino a los nodos del subset\n"
   ]
  },
  {
   "cell_type": "markdown",
   "metadata": {},
   "source": [
    "Agregamos uno nodos para que tengamos dos componente o comunidades"
   ]
  },
  {
   "cell_type": "code",
   "execution_count": 4,
   "metadata": {},
   "outputs": [],
   "source": [
    "G.add_edge('H','J')\n",
    "G.add_edge('J','K')"
   ]
  },
  {
   "cell_type": "code",
   "execution_count": 8,
   "metadata": {},
   "outputs": [
    {
     "data": {
      "text/plain": [
       "2"
      ]
     },
     "execution_count": 8,
     "metadata": {},
     "output_type": "execute_result"
    }
   ],
   "source": [
    "nx.number_connected_components(G)"
   ]
  },
  {
   "cell_type": "markdown",
   "metadata": {},
   "source": [
    "Veamos cuales son los nodos que componen nuestras 2 comunidades"
   ]
  },
  {
   "cell_type": "code",
   "execution_count": 9,
   "metadata": {},
   "outputs": [
    {
     "data": {
      "text/plain": [
       "[{'A', 'B', 'C', 'D', 'E', 'F', 'G', 'T'}, {'H', 'J', 'K'}]"
      ]
     },
     "execution_count": 9,
     "metadata": {},
     "output_type": "execute_result"
    }
   ],
   "source": [
    "sorted(nx.connected_components(G))"
   ]
  },
  {
   "cell_type": "markdown",
   "metadata": {},
   "source": [
    "Tambien podemos ver cual es la comunidad a la que perteenece uno de los nodos del grafo"
   ]
  },
  {
   "cell_type": "code",
   "execution_count": 11,
   "metadata": {},
   "outputs": [
    {
     "data": {
      "text/plain": [
       "{'A', 'B', 'C', 'D', 'E', 'F', 'G', 'T'}"
      ]
     },
     "execution_count": 11,
     "metadata": {},
     "output_type": "execute_result"
    }
   ],
   "source": [
    "nx.node_connected_component(G,'B')"
   ]
  },
  {
   "cell_type": "code",
   "execution_count": 13,
   "metadata": {},
   "outputs": [
    {
     "data": {
      "text/plain": [
       "{'H', 'J', 'K'}"
      ]
     },
     "execution_count": 13,
     "metadata": {},
     "output_type": "execute_result"
    }
   ],
   "source": [
    "nx.node_connected_component(G,'H')"
   ]
  },
  {
   "cell_type": "markdown",
   "metadata": {},
   "source": [
    "### Grafos con direccion\n",
    "Un grafo direccionado se encuentra fuertemente conectado si para cada par de nodoso U y V existe un camino que llegue de U a V y de V a U"
   ]
  },
  {
   "cell_type": "code",
   "execution_count": 14,
   "metadata": {},
   "outputs": [],
   "source": [
    "G_di=nx.DiGraph()\n",
    "G_di.add_edge('A','B')\n",
    "G_di.add_edge('B','C')\n",
    "G_di.add_edge('C','F')\n",
    "G_di.add_edge('F','G')\n",
    "G_di.add_edge('C','E')\n",
    "G_di.add_edge('D','E')\n",
    "G_di.add_edge('B','F')\n",
    "G_di.add_edge('B','G')\n",
    "G_di.add_edge('B','E')\n",
    "G_di.add_edge('B','T')\n",
    "G_di.add_edge('C','F')\n",
    "G_di.add_edge('C','G')\n",
    "G_di.add_edge('C','E')\n",
    "G_di.add_edge('C','T')\n",
    "G_di.add_edge('A','F')\n",
    "G_di.add_edge('A','G')\n",
    "G_di.add_edge('E','B')\n",
    "G_di.add_edge('E','A')\n",
    "G_di.add_edge('E','F')\n",
    "G_di.add_edge('G','F')\n",
    "G_di.add_edge('A','C')"
   ]
  },
  {
   "cell_type": "code",
   "execution_count": 15,
   "metadata": {},
   "outputs": [
    {
     "data": {
      "text/plain": [
       "False"
      ]
     },
     "execution_count": 15,
     "metadata": {},
     "output_type": "execute_result"
    }
   ],
   "source": [
    "nx.is_strongly_connected(G_di)"
   ]
  },
  {
   "cell_type": "markdown",
   "metadata": {},
   "source": [
    "Un grafo direccionado se encuentra debilmente conectado si reemplazando todos los links direccionados por no direccionados se produce un grafo no direccionado que este conectado"
   ]
  },
  {
   "cell_type": "code",
   "execution_count": 17,
   "metadata": {},
   "outputs": [
    {
     "data": {
      "text/plain": [
       "True"
      ]
     },
     "execution_count": 17,
     "metadata": {},
     "output_type": "execute_result"
    }
   ],
   "source": [
    "nx.is_weakly_connected(G_di)"
   ]
  },
  {
   "cell_type": "markdown",
   "metadata": {},
   "source": [
    "###  Componentes fuertemente conectados\n",
    "Cumplen las siguientes reglas:\n",
    "i. Cada nodo de subset tiene un camino direccionado a todos los otros nodos\n",
    "ii. ningun otro noso fuera del subset tiene un camino a los nodos del subset"
   ]
  },
  {
   "cell_type": "code",
   "execution_count": 19,
   "metadata": {},
   "outputs": [
    {
     "data": {
      "text/plain": [
       "[{'F', 'G'}, {'T'}, {'A', 'B', 'C', 'E'}, {'D'}]"
      ]
     },
     "execution_count": 19,
     "metadata": {},
     "output_type": "execute_result"
    }
   ],
   "source": [
    "sorted(nx.strongly_connected_components(G_di))"
   ]
  },
  {
   "cell_type": "code",
   "execution_count": 20,
   "metadata": {},
   "outputs": [
    {
     "data": {
      "text/plain": [
       "[{'A', 'B', 'C', 'D', 'E', 'F', 'G', 'T'}]"
      ]
     },
     "execution_count": 20,
     "metadata": {},
     "output_type": "execute_result"
    }
   ],
   "source": [
    "sorted(nx.weakly_connected_components(G_di))"
   ]
  }
 ],
 "metadata": {
  "kernelspec": {
   "display_name": "Python 3",
   "language": "python",
   "name": "python3"
  },
  "language_info": {
   "codemirror_mode": {
    "name": "ipython",
    "version": 3
   },
   "file_extension": ".py",
   "mimetype": "text/x-python",
   "name": "python",
   "nbconvert_exporter": "python",
   "pygments_lexer": "ipython3",
   "version": "3.7.6"
  }
 },
 "nbformat": 4,
 "nbformat_minor": 4
}
